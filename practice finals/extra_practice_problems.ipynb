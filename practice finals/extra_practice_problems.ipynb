{
 "cells": [
  {
   "cell_type": "code",
   "execution_count": 4,
   "metadata": {},
   "outputs": [
    {
     "name": "stdout",
     "output_type": "stream",
     "text": [
      "4\n"
     ]
    }
   ],
   "source": [
    "class Countdown:\n",
    "    def __init__(self):\n",
    "        self.a = 1\n",
    "        self.b = 2\n",
    "\n",
    "    def europe(self):\n",
    "        self.b = self.b + 1\n",
    "\n",
    "    def final(self):\n",
    "        print(self.a + self.b)\n",
    "\n",
    "\n",
    "c = Countdown()\n",
    "c.europe()\n",
    "c.final()"
   ]
  },
  {
   "cell_type": "code",
   "execution_count": 5,
   "metadata": {},
   "outputs": [
    {
     "name": "stdout",
     "output_type": "stream",
     "text": [
      "3\n"
     ]
    }
   ],
   "source": [
    "class Countdown:\n",
    "    def __init__(self):\n",
    "        self.a = 1\n",
    "        self.b = 2\n",
    "\n",
    "    def europe(self):\n",
    "        self.b = self.b + 1\n",
    "\n",
    "    def final(self):\n",
    "        print(self.a + self.b)\n",
    "\n",
    "\n",
    "c = Countdown()\n",
    "c.final()"
   ]
  },
  {
   "cell_type": "code",
   "execution_count": 6,
   "metadata": {},
   "outputs": [
    {
     "name": "stdout",
     "output_type": "stream",
     "text": [
      "<class 'int'>\n"
     ]
    }
   ],
   "source": [
    "class Countdown:\n",
    "    def __init__(self):\n",
    "        self.a = 1\n",
    "\n",
    "    def final(self):\n",
    "        print(type(self.a))\n",
    "\n",
    "\n",
    "c = Countdown()\n",
    "c.final()"
   ]
  },
  {
   "cell_type": "code",
   "execution_count": 7,
   "metadata": {},
   "outputs": [
    {
     "ename": "NameError",
     "evalue": "name 'a' is not defined",
     "output_type": "error",
     "traceback": [
      "\u001b[0;31m---------------------------------------------------------------------------\u001b[0m",
      "\u001b[0;31mNameError\u001b[0m                                 Traceback (most recent call last)",
      "\u001b[0;32m/var/folders/l7/981dhsvd43z0mg2jbfsvwlqm0000gn/T/ipykernel_38254/368911748.py\u001b[0m in \u001b[0;36m<module>\u001b[0;34m\u001b[0m\n\u001b[1;32m      8\u001b[0m \u001b[0;34m\u001b[0m\u001b[0m\n\u001b[1;32m      9\u001b[0m \u001b[0mc\u001b[0m \u001b[0;34m=\u001b[0m \u001b[0mCountdown\u001b[0m\u001b[0;34m(\u001b[0m\u001b[0;34m)\u001b[0m\u001b[0;34m\u001b[0m\u001b[0;34m\u001b[0m\u001b[0m\n\u001b[0;32m---> 10\u001b[0;31m \u001b[0mc\u001b[0m\u001b[0;34m.\u001b[0m\u001b[0mfinal\u001b[0m\u001b[0;34m(\u001b[0m\u001b[0;34m)\u001b[0m\u001b[0;34m\u001b[0m\u001b[0;34m\u001b[0m\u001b[0m\n\u001b[0m",
      "\u001b[0;32m/var/folders/l7/981dhsvd43z0mg2jbfsvwlqm0000gn/T/ipykernel_38254/368911748.py\u001b[0m in \u001b[0;36mfinal\u001b[0;34m(self)\u001b[0m\n\u001b[1;32m      4\u001b[0m \u001b[0;34m\u001b[0m\u001b[0m\n\u001b[1;32m      5\u001b[0m     \u001b[0;32mdef\u001b[0m \u001b[0mfinal\u001b[0m\u001b[0;34m(\u001b[0m\u001b[0mself\u001b[0m\u001b[0;34m)\u001b[0m\u001b[0;34m:\u001b[0m\u001b[0;34m\u001b[0m\u001b[0;34m\u001b[0m\u001b[0m\n\u001b[0;32m----> 6\u001b[0;31m         \u001b[0mprint\u001b[0m\u001b[0;34m(\u001b[0m\u001b[0mtype\u001b[0m\u001b[0;34m(\u001b[0m\u001b[0ma\u001b[0m\u001b[0;34m)\u001b[0m\u001b[0;34m)\u001b[0m\u001b[0;34m\u001b[0m\u001b[0;34m\u001b[0m\u001b[0m\n\u001b[0m\u001b[1;32m      7\u001b[0m \u001b[0;34m\u001b[0m\u001b[0m\n\u001b[1;32m      8\u001b[0m \u001b[0;34m\u001b[0m\u001b[0m\n",
      "\u001b[0;31mNameError\u001b[0m: name 'a' is not defined"
     ]
    }
   ],
   "source": [
    "class Countdown:\n",
    "    def __init__(self):\n",
    "        self.a = 1\n",
    "\n",
    "    def final(self):\n",
    "        print(type(a))\n",
    "\n",
    "\n",
    "c = Countdown()\n",
    "c.final()"
   ]
  },
  {
   "cell_type": "code",
   "execution_count": 8,
   "metadata": {},
   "outputs": [],
   "source": [
    "class Countdown:\n",
    "    def __init__(self):\n",
    "        print(type(self))"
   ]
  },
  {
   "cell_type": "code",
   "execution_count": 9,
   "metadata": {},
   "outputs": [
    {
     "name": "stdout",
     "output_type": "stream",
     "text": [
      "B\n"
     ]
    }
   ],
   "source": [
    "a = 61\n",
    "b = 780\n",
    "c = 666\n",
    "if a == 61:\n",
    "    if b == 97:\n",
    "        print(\"A\")\n",
    "    elif b == 61 or c == 666:\n",
    "        print(\"B\")\n",
    "    elif b == 666:\n",
    "        print(\"E\")\n",
    "    elif True:\n",
    "        print(\"C\")\n",
    "else:\n",
    "    print(\"D\")"
   ]
  },
  {
   "cell_type": "code",
   "execution_count": 10,
   "metadata": {},
   "outputs": [
    {
     "name": "stdout",
     "output_type": "stream",
     "text": [
      "C\n"
     ]
    }
   ],
   "source": [
    "a = 61\n",
    "b = 780\n",
    "c = 666\n",
    "if a == 61:\n",
    "    if b == 97:\n",
    "        print(\"A\")\n",
    "    elif b == 61 and c == 666:\n",
    "        print(\"B\")\n",
    "    elif b == 666:\n",
    "        print(\"E\")\n",
    "    elif True:\n",
    "        print(\"C\")\n",
    "else:\n",
    "    print(\"D\")"
   ]
  },
  {
   "cell_type": "code",
   "execution_count": 11,
   "metadata": {},
   "outputs": [
    {
     "name": "stdout",
     "output_type": "stream",
     "text": [
      "A\n",
      "C\n"
     ]
    }
   ],
   "source": [
    "a = 61\n",
    "b = 97\n",
    "c = 666\n",
    "if a == 61:\n",
    "    if b == 97:\n",
    "        print(\"A\")\n",
    "    if b == 61 and c == 666:\n",
    "        print(\"B\")\n",
    "    elif b == 666:\n",
    "        print(\"E\")\n",
    "    else:\n",
    "        print(\"C\")\n",
    "else:\n",
    "    print(\"D\")"
   ]
  },
  {
   "cell_type": "code",
   "execution_count": 12,
   "metadata": {},
   "outputs": [
    {
     "name": "stdout",
     "output_type": "stream",
     "text": [
      "A\n"
     ]
    }
   ],
   "source": [
    "a = 61\n",
    "b = 97\n",
    "c = 666\n",
    "if a == 61:\n",
    "    if b == 97:\n",
    "        print(\"A\")\n",
    "    elif b == 61 and c == 666:\n",
    "        print(\"B\")\n",
    "    elif b == 666:\n",
    "        print(\"E\")\n",
    "    else:\n",
    "        print(\"C\")\n",
    "else:\n",
    "    print(\"D\")"
   ]
  },
  {
   "cell_type": "code",
   "execution_count": 13,
   "metadata": {},
   "outputs": [
    {
     "name": "stdout",
     "output_type": "stream",
     "text": [
      "D\n"
     ]
    }
   ],
   "source": [
    "a = 97\n",
    "b = 61\n",
    "c = 666\n",
    "if a == 61:\n",
    "    if b == 97:\n",
    "        print(\"A\")\n",
    "    elif b == 61 and c == 666:\n",
    "        print(\"B\")\n",
    "    elif b == 666:\n",
    "        print(\"E\")\n",
    "    else:\n",
    "        print(\"C\")\n",
    "else:\n",
    "    print(\"D\")"
   ]
  },
  {
   "cell_type": "code",
   "execution_count": 14,
   "metadata": {},
   "outputs": [
    {
     "name": "stdout",
     "output_type": "stream",
     "text": [
      "A\n",
      "B\n",
      "False\n"
     ]
    }
   ],
   "source": [
    "def a():\n",
    "    print(\"A\")\n",
    "    return False\n",
    "\n",
    "\n",
    "def b():\n",
    "    print(\"B\")\n",
    "    return False\n",
    "\n",
    "\n",
    "def c():\n",
    "    print(\"C\")\n",
    "    return True\n",
    "\n",
    "\n",
    "print(a() or b() and c())"
   ]
  },
  {
   "cell_type": "code",
   "execution_count": 15,
   "metadata": {},
   "outputs": [
    {
     "name": "stdout",
     "output_type": "stream",
     "text": [
      "A\n",
      "B\n",
      "C\n",
      "True\n",
      "A\n",
      "True\n"
     ]
    }
   ],
   "source": [
    "def a():\n",
    "    print(\"A\")\n",
    "    return True\n",
    "\n",
    "\n",
    "def b():\n",
    "    print(\"B\")\n",
    "    return False\n",
    "\n",
    "\n",
    "def c():\n",
    "    print(\"C\")\n",
    "    return True\n",
    "\n",
    "\n",
    "print(a() and b() or c())\n",
    "print(a() or b() and c())"
   ]
  },
  {
   "cell_type": "code",
   "execution_count": 16,
   "metadata": {},
   "outputs": [
    {
     "name": "stdout",
     "output_type": "stream",
     "text": [
      "1\n",
      "2\n",
      "3\n",
      "4\n",
      "5\n"
     ]
    }
   ],
   "source": [
    "a = [[0, 1, 2],\n",
    "     [2, 3, 4],\n",
    "     [4, 5, 6]]\n",
    "\n",
    "for i in range(len(a)):\n",
    "    for j in range(len(a)):\n",
    "        if len(a) - i - 1 == j or j == 1:\n",
    "            print(a[i][j])"
   ]
  },
  {
   "cell_type": "code",
   "execution_count": 17,
   "metadata": {},
   "outputs": [
    {
     "name": "stdout",
     "output_type": "stream",
     "text": [
      "3\n"
     ]
    }
   ],
   "source": [
    "a = [[0, 1, 2],\n",
    "     [2, 3, 4],\n",
    "     [4, 5, 6]]\n",
    "\n",
    "for i in range(len(a)):\n",
    "    for j in range(len(a)):\n",
    "        if len(a) - i - 1 == j and j == 1:\n",
    "            print(a[i][j])"
   ]
  },
  {
   "cell_type": "code",
   "execution_count": 18,
   "metadata": {},
   "outputs": [
    {
     "name": "stdout",
     "output_type": "stream",
     "text": [
      "2\n",
      "3\n",
      "4\n"
     ]
    }
   ],
   "source": [
    "a = [[0, 1, 2],\n",
    "     [2, 3, 4],\n",
    "     [4, 5, 6]]\n",
    "\n",
    "for i in range(len(a)):\n",
    "    for j in range(len(a)):\n",
    "        if len(a) - i - 1 == j:\n",
    "            print(a[i][j])"
   ]
  },
  {
   "cell_type": "code",
   "execution_count": 19,
   "metadata": {},
   "outputs": [
    {
     "name": "stdout",
     "output_type": "stream",
     "text": [
      "0\n",
      "3\n",
      "6\n"
     ]
    }
   ],
   "source": [
    "a = [[0, 1, 2],\n",
    "     [2, 3, 4],\n",
    "     [4, 5, 6]]\n",
    "\n",
    "for i in range(len(a)):\n",
    "    for j in range(len(a)):\n",
    "        if i == j:\n",
    "            print(a[i][j])"
   ]
  },
  {
   "cell_type": "code",
   "execution_count": 20,
   "metadata": {},
   "outputs": [
    {
     "name": "stdout",
     "output_type": "stream",
     "text": [
      "0\n",
      "1\n",
      "2\n",
      "2\n",
      "3\n",
      "4\n",
      "4\n",
      "5\n",
      "6\n"
     ]
    }
   ],
   "source": [
    "a = [[0, 1, 2],\n",
    "     [2, 3, 4],\n",
    "     [4, 5, 6]]\n",
    "\n",
    "for i in range(len(a)):\n",
    "    for j in range(len(a)):\n",
    "        print(a[i][j])"
   ]
  },
  {
   "cell_type": "code",
   "execution_count": 21,
   "metadata": {},
   "outputs": [
    {
     "name": "stdout",
     "output_type": "stream",
     "text": [
      "3\n",
      "3\n",
      "3\n"
     ]
    }
   ],
   "source": [
    "a = [[0, 1, 2],\n",
    "     [2, 3, 4],\n",
    "     [4, 5, 6]]\n",
    "\n",
    "for i in range(len(a)):\n",
    "    print(len(a[i]))"
   ]
  },
  {
   "cell_type": "code",
   "execution_count": 22,
   "metadata": {},
   "outputs": [
    {
     "name": "stdout",
     "output_type": "stream",
     "text": [
      "False\n",
      "False\n",
      "True\n",
      "False\n",
      "False\n",
      "True\n",
      "False\n",
      "False\n",
      "True\n"
     ]
    }
   ],
   "source": [
    "a = [[0, 1, 2],\n",
    "     [2, 3, 4],\n",
    "     [4, 5, 6]]\n",
    "\n",
    "for i in range(len(a)):\n",
    "    for j in range(len(a)):\n",
    "        print(j == 2)"
   ]
  },
  {
   "cell_type": "code",
   "execution_count": 23,
   "metadata": {},
   "outputs": [
    {
     "name": "stdout",
     "output_type": "stream",
     "text": [
      "[0, 1, 2]\n",
      "[2, 3, 4]\n",
      "[4, 5, 6]\n"
     ]
    }
   ],
   "source": [
    "a = [[0, 1, 2],\n",
    "     [2, 3, 4],\n",
    "     [4, 5, 6]]\n",
    "\n",
    "for i in a:\n",
    "    print(i)"
   ]
  },
  {
   "cell_type": "code",
   "execution_count": 24,
   "metadata": {},
   "outputs": [
    {
     "name": "stdout",
     "output_type": "stream",
     "text": [
      "False\n",
      "False\n",
      "True\n",
      "True\n",
      "False\n",
      "False\n",
      "False\n",
      "False\n",
      "False\n"
     ]
    }
   ],
   "source": [
    "a = [[0, 1, 2],\n",
    "     [2, 3, 4],\n",
    "     [4, 5, 6]]\n",
    "\n",
    "for i in a:\n",
    "    for j in i:\n",
    "        print(j == 2)"
   ]
  },
  {
   "cell_type": "code",
   "execution_count": 25,
   "metadata": {},
   "outputs": [
    {
     "name": "stdout",
     "output_type": "stream",
     "text": [
      "[5, 3, 2, 1, 1]\n"
     ]
    }
   ],
   "source": [
    "def go(a):\n",
    "    b = a.reverse()\n",
    "    return a\n",
    "\n",
    "\n",
    "def main():\n",
    "    a = [1, 1, 2, 3, 5]\n",
    "    r = go(a)\n",
    "    print(r)\n",
    "\n",
    "\n",
    "main()"
   ]
  },
  {
   "cell_type": "code",
   "execution_count": 26,
   "metadata": {},
   "outputs": [
    {
     "name": "stdout",
     "output_type": "stream",
     "text": [
      "None\n"
     ]
    }
   ],
   "source": [
    "def go(a):\n",
    "    b = a.reverse()\n",
    "    return b\n",
    "\n",
    "\n",
    "def main():\n",
    "    a = [1, 1, 2, 3, 5]\n",
    "    r = go(a)\n",
    "    print(r)\n",
    "\n",
    "\n",
    "main()"
   ]
  },
  {
   "cell_type": "code",
   "execution_count": 27,
   "metadata": {},
   "outputs": [
    {
     "name": "stdout",
     "output_type": "stream",
     "text": [
      "[5, 3, 2, 1, 1]\n"
     ]
    }
   ],
   "source": [
    "def go(a):\n",
    "    a.reverse()\n",
    "\n",
    "\n",
    "def main():\n",
    "    a = [1, 1, 2, 3, 5]\n",
    "    r = go(a)\n",
    "    print(a)\n",
    "\n",
    "\n",
    "main()"
   ]
  },
  {
   "cell_type": "code",
   "execution_count": 28,
   "metadata": {},
   "outputs": [
    {
     "name": "stdout",
     "output_type": "stream",
     "text": [
      "[1, 1, 2, 3, 5]\n"
     ]
    }
   ],
   "source": [
    "def go(a):\n",
    "    b = [0, 1, 2, 3, 4]\n",
    "    a = b\n",
    "    for i in range(len(a)):\n",
    "        a[i] = a[i] + 1\n",
    "    return a\n",
    "\n",
    "\n",
    "def main():\n",
    "    a = [1, 1, 2, 3, 5]\n",
    "    r = go(a)\n",
    "    print(a)\n",
    "\n",
    "\n",
    "main()"
   ]
  },
  {
   "cell_type": "code",
   "execution_count": 29,
   "metadata": {},
   "outputs": [
    {
     "name": "stdout",
     "output_type": "stream",
     "text": [
      "[1, 2, 3, 4, 5]\n"
     ]
    }
   ],
   "source": [
    "def go(a):\n",
    "    b = [0, 1, 2, 3, 4]\n",
    "    for i in range(len(a)):\n",
    "        a[i] = b[i] + 1\n",
    "    return a\n",
    "\n",
    "\n",
    "def main():\n",
    "    a = [1, 1, 2, 3, 5]\n",
    "    r = go(a)\n",
    "    print(a)\n",
    "\n",
    "\n",
    "main()"
   ]
  },
  {
   "cell_type": "code",
   "execution_count": 30,
   "metadata": {},
   "outputs": [
    {
     "name": "stdout",
     "output_type": "stream",
     "text": [
      "[2, 2, 3, 4, 6]\n"
     ]
    }
   ],
   "source": [
    "def go(a):\n",
    "    for i in range(len(a)):\n",
    "        a[i] = a[i] + 1\n",
    "    return a\n",
    "\n",
    "\n",
    "def main():\n",
    "    a = [1, 1, 2, 3, 5]\n",
    "    r = go(a)\n",
    "    print(r)\n",
    "\n",
    "\n",
    "main()"
   ]
  },
  {
   "cell_type": "code",
   "execution_count": 31,
   "metadata": {},
   "outputs": [
    {
     "name": "stdout",
     "output_type": "stream",
     "text": [
      "[2, 3, 4, 3, 6]\n"
     ]
    }
   ],
   "source": [
    "def go(a):\n",
    "    for i in a:\n",
    "        a[i - 1] = i + 1\n",
    "    return a\n",
    "\n",
    "\n",
    "def main():\n",
    "    a = [1, 1, 2, 3, 5]\n",
    "    r = go(a)\n",
    "    print(r)\n",
    "\n",
    "\n",
    "main()"
   ]
  },
  {
   "cell_type": "code",
   "execution_count": 32,
   "metadata": {},
   "outputs": [
    {
     "ename": "IndexError",
     "evalue": "list assignment index out of range",
     "output_type": "error",
     "traceback": [
      "\u001b[0;31m---------------------------------------------------------------------------\u001b[0m",
      "\u001b[0;31mIndexError\u001b[0m                                Traceback (most recent call last)",
      "\u001b[0;32m/var/folders/l7/981dhsvd43z0mg2jbfsvwlqm0000gn/T/ipykernel_38254/1995848952.py\u001b[0m in \u001b[0;36m<module>\u001b[0;34m\u001b[0m\n\u001b[1;32m     11\u001b[0m \u001b[0;34m\u001b[0m\u001b[0m\n\u001b[1;32m     12\u001b[0m \u001b[0;34m\u001b[0m\u001b[0m\n\u001b[0;32m---> 13\u001b[0;31m \u001b[0mmain\u001b[0m\u001b[0;34m(\u001b[0m\u001b[0;34m)\u001b[0m\u001b[0;34m\u001b[0m\u001b[0;34m\u001b[0m\u001b[0m\n\u001b[0m",
      "\u001b[0;32m/var/folders/l7/981dhsvd43z0mg2jbfsvwlqm0000gn/T/ipykernel_38254/1995848952.py\u001b[0m in \u001b[0;36mmain\u001b[0;34m()\u001b[0m\n\u001b[1;32m      7\u001b[0m \u001b[0;32mdef\u001b[0m \u001b[0mmain\u001b[0m\u001b[0;34m(\u001b[0m\u001b[0;34m)\u001b[0m\u001b[0;34m:\u001b[0m\u001b[0;34m\u001b[0m\u001b[0;34m\u001b[0m\u001b[0m\n\u001b[1;32m      8\u001b[0m     \u001b[0ma\u001b[0m \u001b[0;34m=\u001b[0m \u001b[0;34m[\u001b[0m\u001b[0;36m1\u001b[0m\u001b[0;34m,\u001b[0m \u001b[0;36m1\u001b[0m\u001b[0;34m,\u001b[0m \u001b[0;36m2\u001b[0m\u001b[0;34m,\u001b[0m \u001b[0;36m3\u001b[0m\u001b[0;34m,\u001b[0m \u001b[0;36m5\u001b[0m\u001b[0;34m]\u001b[0m\u001b[0;34m\u001b[0m\u001b[0;34m\u001b[0m\u001b[0m\n\u001b[0;32m----> 9\u001b[0;31m     \u001b[0mr\u001b[0m \u001b[0;34m=\u001b[0m \u001b[0mgo\u001b[0m\u001b[0;34m(\u001b[0m\u001b[0ma\u001b[0m\u001b[0;34m)\u001b[0m\u001b[0;34m\u001b[0m\u001b[0;34m\u001b[0m\u001b[0m\n\u001b[0m\u001b[1;32m     10\u001b[0m     \u001b[0mprint\u001b[0m\u001b[0;34m(\u001b[0m\u001b[0mr\u001b[0m\u001b[0;34m)\u001b[0m\u001b[0;34m\u001b[0m\u001b[0;34m\u001b[0m\u001b[0m\n\u001b[1;32m     11\u001b[0m \u001b[0;34m\u001b[0m\u001b[0m\n",
      "\u001b[0;32m/var/folders/l7/981dhsvd43z0mg2jbfsvwlqm0000gn/T/ipykernel_38254/1995848952.py\u001b[0m in \u001b[0;36mgo\u001b[0;34m(a)\u001b[0m\n\u001b[1;32m      1\u001b[0m \u001b[0;32mdef\u001b[0m \u001b[0mgo\u001b[0m\u001b[0;34m(\u001b[0m\u001b[0ma\u001b[0m\u001b[0;34m)\u001b[0m\u001b[0;34m:\u001b[0m\u001b[0;34m\u001b[0m\u001b[0;34m\u001b[0m\u001b[0m\n\u001b[1;32m      2\u001b[0m     \u001b[0;32mfor\u001b[0m \u001b[0mi\u001b[0m \u001b[0;32min\u001b[0m \u001b[0ma\u001b[0m\u001b[0;34m:\u001b[0m\u001b[0;34m\u001b[0m\u001b[0;34m\u001b[0m\u001b[0m\n\u001b[0;32m----> 3\u001b[0;31m         \u001b[0ma\u001b[0m\u001b[0;34m[\u001b[0m\u001b[0mi\u001b[0m\u001b[0;34m]\u001b[0m \u001b[0;34m=\u001b[0m \u001b[0mi\u001b[0m \u001b[0;34m+\u001b[0m \u001b[0;36m1\u001b[0m\u001b[0;34m\u001b[0m\u001b[0;34m\u001b[0m\u001b[0m\n\u001b[0m\u001b[1;32m      4\u001b[0m     \u001b[0;32mreturn\u001b[0m \u001b[0ma\u001b[0m\u001b[0;34m\u001b[0m\u001b[0;34m\u001b[0m\u001b[0m\n\u001b[1;32m      5\u001b[0m \u001b[0;34m\u001b[0m\u001b[0m\n",
      "\u001b[0;31mIndexError\u001b[0m: list assignment index out of range"
     ]
    }
   ],
   "source": [
    "def go(a):\n",
    "    for i in a:\n",
    "        a[i] = i + 1\n",
    "    return a\n",
    "\n",
    "\n",
    "def main():\n",
    "    a = [1, 1, 2, 3, 5]\n",
    "    r = go(a)\n",
    "    print(r)\n",
    "\n",
    "\n",
    "main()"
   ]
  },
  {
   "cell_type": "code",
   "execution_count": 33,
   "metadata": {},
   "outputs": [
    {
     "name": "stdout",
     "output_type": "stream",
     "text": [
      "[1, 1, 2, 3, 5]\n"
     ]
    }
   ],
   "source": [
    "def go(a):\n",
    "    for i in a:\n",
    "        i = i + 1\n",
    "    return a\n",
    "\n",
    "\n",
    "def main():\n",
    "    a = [1, 1, 2, 3, 5]\n",
    "    r = go(a)\n",
    "    print(r)\n",
    "\n",
    "\n",
    "main()"
   ]
  },
  {
   "cell_type": "code",
   "execution_count": 34,
   "metadata": {},
   "outputs": [
    {
     "name": "stdout",
     "output_type": "stream",
     "text": [
      "None\n"
     ]
    }
   ],
   "source": [
    "def go(a):\n",
    "    for i in a:\n",
    "        i = i + 1\n",
    "\n",
    "\n",
    "def main():\n",
    "    a = [1, 1, 2, 3, 5]\n",
    "    r = go(a)\n",
    "    print(r)\n",
    "\n",
    "\n",
    "main()"
   ]
  },
  {
   "cell_type": "code",
   "execution_count": 35,
   "metadata": {},
   "outputs": [
    {
     "ename": "TypeError",
     "evalue": "string indices must be integers",
     "output_type": "error",
     "traceback": [
      "\u001b[0;31m---------------------------------------------------------------------------\u001b[0m",
      "\u001b[0;31mTypeError\u001b[0m                                 Traceback (most recent call last)",
      "\u001b[0;32m/var/folders/l7/981dhsvd43z0mg2jbfsvwlqm0000gn/T/ipykernel_38254/777835113.py\u001b[0m in \u001b[0;36m<module>\u001b[0;34m\u001b[0m\n\u001b[1;32m      1\u001b[0m \u001b[0ms\u001b[0m \u001b[0;34m=\u001b[0m \u001b[0;34m\"xyz\"\u001b[0m\u001b[0;34m\u001b[0m\u001b[0;34m\u001b[0m\u001b[0m\n\u001b[1;32m      2\u001b[0m \u001b[0;32mfor\u001b[0m \u001b[0mi\u001b[0m \u001b[0;32min\u001b[0m \u001b[0ms\u001b[0m\u001b[0;34m:\u001b[0m\u001b[0;34m\u001b[0m\u001b[0;34m\u001b[0m\u001b[0m\n\u001b[0;32m----> 3\u001b[0;31m     \u001b[0mprint\u001b[0m\u001b[0;34m(\u001b[0m\u001b[0ms\u001b[0m\u001b[0;34m[\u001b[0m\u001b[0mi\u001b[0m\u001b[0;34m]\u001b[0m\u001b[0;34m)\u001b[0m\u001b[0;34m\u001b[0m\u001b[0;34m\u001b[0m\u001b[0m\n\u001b[0m",
      "\u001b[0;31mTypeError\u001b[0m: string indices must be integers"
     ]
    }
   ],
   "source": [
    "s = \"xyz\"\n",
    "for i in s:\n",
    "    print(s[i])"
   ]
  }
 ],
 "metadata": {
  "interpreter": {
   "hash": "31f2aee4e71d21fbe5cf8b01ff0e069b9275f58929596ceb00d14d90e3e16cd6"
  },
  "kernelspec": {
   "display_name": "Python 3.8.9 64-bit",
   "language": "python",
   "name": "python3"
  },
  "language_info": {
   "codemirror_mode": {
    "name": "ipython",
    "version": 3
   },
   "file_extension": ".py",
   "mimetype": "text/x-python",
   "name": "python",
   "nbconvert_exporter": "python",
   "pygments_lexer": "ipython3",
   "version": "3.8.9"
  },
  "orig_nbformat": 4
 },
 "nbformat": 4,
 "nbformat_minor": 2
}
